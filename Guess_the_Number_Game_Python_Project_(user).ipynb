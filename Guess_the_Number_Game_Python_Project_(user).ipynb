{
  "nbformat": 4,
  "nbformat_minor": 0,
  "metadata": {
    "colab": {
      "provenance": [],
      "authorship_tag": "ABX9TyMKZM/SeOedTbXaVDb4CDGM",
      "include_colab_link": true
    },
    "kernelspec": {
      "name": "python3",
      "display_name": "Python 3"
    },
    "language_info": {
      "name": "python"
    }
  },
  "cells": [
    {
      "cell_type": "markdown",
      "metadata": {
        "id": "view-in-github",
        "colab_type": "text"
      },
      "source": [
        "<a href=\"https://colab.research.google.com/github/kiranwahid/-Guess-the-Number-Game-Python-Project-user-.ipynb-Guess-the-Number-Game-Python-Project-user-/blob/main/Guess_the_Number_Game_Python_Project_(user).ipynb\" target=\"_parent\"><img src=\"https://colab.research.google.com/assets/colab-badge.svg\" alt=\"Open In Colab\"/></a>"
      ]
    },
    {
      "cell_type": "code",
      "execution_count": 1,
      "metadata": {
        "id": "tSAR7Jjiyp0Q",
        "colab": {
          "base_uri": "https://localhost:8080/"
        },
        "outputId": "9645ed64-9704-415c-b25c-d651ce4d74c2"
      },
      "outputs": [
        {
          "output_type": "stream",
          "name": "stdout",
          "text": [
            "Is 19 too high (H), too low (L), or correct (C)? h\n",
            "Is 17 too high (H), too low (L), or correct (C)? l\n",
            "Is 18 too high (H), too low (L), or correct (C)? c\n",
            "Yay! The computer guessed your number, 18, correctly!\n"
          ]
        }
      ],
      "source": [
        "import random\n",
        "\n",
        "def computer_guess(x):\n",
        "    # Initialize the range in which the computer will guess\n",
        "    low = 1\n",
        "    high = x\n",
        "    feedback = ''  # Variable to store user feedback\n",
        "\n",
        "    # Continue guessing until the computer gets the correct answer ('c')\n",
        "    while feedback != 'c':\n",
        "        # If low and high are not the same, make a random guess between them\n",
        "        if low != high:\n",
        "            guess = random.randint(low, high)\n",
        "        else:\n",
        "            # If low and high are the same, the guess has to be that number\n",
        "            guess = low\n",
        "\n",
        "        # Ask the user if the guess is too high, too low, or correct\n",
        "        feedback = input(f'Is {guess} too high (H), too low (L), or correct (C)? ').lower()\n",
        "\n",
        "        # Adjust the range based on the feedback\n",
        "        if feedback == 'h':\n",
        "            high = guess - 1  # Reduce the upper limit if the guess is too high\n",
        "        elif feedback == 'l':\n",
        "            low = guess + 1   # Increase the lower limit if the guess is too low\n",
        "\n",
        "    # Once the correct guess is made, print a success message\n",
        "    print(f'Yay! The computer guessed your number, {guess}, correctly!')\n",
        "\n",
        "# Start the game with the number range up to 20\n",
        "computer_guess(20)\n"
      ]
    }
  ]
}